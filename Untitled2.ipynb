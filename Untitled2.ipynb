{
 "cells": [
  {
   "cell_type": "code",
   "execution_count": 18,
   "metadata": {},
   "outputs": [],
   "source": [
    "import tensorflow as tf\n",
    "from tensorflow.keras import layers\n",
    "import matplotlib.pyplot as plt"
   ]
  },
  {
   "cell_type": "code",
   "execution_count": 14,
   "metadata": {},
   "outputs": [
    {
     "name": "stdout",
     "output_type": "stream",
     "text": [
      "Collecting tensorflow==2.8.0\n",
      "  Using cached tensorflow-2.8.0-cp39-cp39-win_amd64.whl (438.0 MB)\n",
      "Collecting google-pasta>=0.1.1\n",
      "  Using cached google_pasta-0.2.0-py3-none-any.whl (57 kB)\n",
      "Collecting protobuf>=3.9.2\n",
      "  Using cached protobuf-3.19.4-cp39-cp39-win_amd64.whl (895 kB)\n",
      "Collecting h5py>=2.9.0\n",
      "  Using cached h5py-3.6.0-cp39-cp39-win_amd64.whl (2.8 MB)\n",
      "Collecting typing-extensions>=3.6.6\n",
      "  Using cached typing_extensions-4.1.1-py3-none-any.whl (26 kB)\n",
      "Collecting six>=1.12.0\n",
      "  Using cached six-1.16.0-py2.py3-none-any.whl (11 kB)\n",
      "Collecting tensorflow-io-gcs-filesystem>=0.23.1\n",
      "  Using cached tensorflow_io_gcs_filesystem-0.24.0-cp39-cp39-win_amd64.whl (1.5 MB)\n",
      "Collecting libclang>=9.0.1\n",
      "  Using cached libclang-13.0.0-py2.py3-none-win_amd64.whl (13.9 MB)\n",
      "Collecting grpcio<2.0,>=1.24.3\n",
      "  Using cached grpcio-1.44.0-cp39-cp39-win_amd64.whl (3.4 MB)\n",
      "Collecting setuptools\n",
      "  Downloading setuptools-61.1.1-py3-none-any.whl (1.1 MB)\n",
      "     ---------------------------------------- 1.1/1.1 MB 1.7 MB/s eta 0:00:00\n",
      "Collecting tensorboard<2.9,>=2.8\n",
      "  Using cached tensorboard-2.8.0-py3-none-any.whl (5.8 MB)\n",
      "Collecting gast>=0.2.1\n",
      "  Using cached gast-0.5.3-py3-none-any.whl (19 kB)\n",
      "Collecting wrapt>=1.11.0\n",
      "  Using cached wrapt-1.14.0-cp39-cp39-win_amd64.whl (36 kB)\n",
      "Collecting astunparse>=1.6.0\n",
      "  Using cached astunparse-1.6.3-py2.py3-none-any.whl (12 kB)\n",
      "Collecting flatbuffers>=1.12\n",
      "  Using cached flatbuffers-2.0-py2.py3-none-any.whl (26 kB)\n",
      "Collecting termcolor>=1.1.0\n",
      "  Using cached termcolor-1.1.0-py3-none-any.whl\n",
      "Collecting tf-estimator-nightly==2.8.0.dev2021122109\n",
      "  Using cached tf_estimator_nightly-2.8.0.dev2021122109-py2.py3-none-any.whl (462 kB)\n",
      "Collecting keras-preprocessing>=1.1.1\n",
      "  Using cached Keras_Preprocessing-1.1.2-py2.py3-none-any.whl (42 kB)\n",
      "Collecting absl-py>=0.4.0\n",
      "  Using cached absl_py-1.0.0-py3-none-any.whl (126 kB)\n",
      "Collecting numpy>=1.20\n",
      "  Using cached numpy-1.22.3-cp39-cp39-win_amd64.whl (14.7 MB)\n",
      "Collecting keras<2.9,>=2.8.0rc0\n",
      "  Using cached keras-2.8.0-py2.py3-none-any.whl (1.4 MB)\n",
      "Collecting opt-einsum>=2.3.2\n",
      "  Using cached opt_einsum-3.3.0-py3-none-any.whl (65 kB)\n",
      "Collecting wheel<1.0,>=0.23.0\n",
      "  Using cached wheel-0.37.1-py2.py3-none-any.whl (35 kB)\n",
      "Collecting google-auth<3,>=1.6.3\n",
      "  Using cached google_auth-2.6.2-py2.py3-none-any.whl (156 kB)\n",
      "Collecting google-auth-oauthlib<0.5,>=0.4.1\n",
      "  Using cached google_auth_oauthlib-0.4.6-py2.py3-none-any.whl (18 kB)\n",
      "Collecting werkzeug>=0.11.15\n",
      "  Using cached Werkzeug-2.0.3-py3-none-any.whl (289 kB)\n",
      "Collecting markdown>=2.6.8\n",
      "  Using cached Markdown-3.3.6-py3-none-any.whl (97 kB)\n",
      "Collecting tensorboard-data-server<0.7.0,>=0.6.0\n",
      "  Using cached tensorboard_data_server-0.6.1-py3-none-any.whl (2.4 kB)\n",
      "Collecting tensorboard-plugin-wit>=1.6.0\n",
      "  Using cached tensorboard_plugin_wit-1.8.1-py3-none-any.whl (781 kB)\n",
      "Collecting requests<3,>=2.21.0\n",
      "  Using cached requests-2.27.1-py2.py3-none-any.whl (63 kB)\n",
      "Collecting pyasn1-modules>=0.2.1\n",
      "  Using cached pyasn1_modules-0.2.8-py2.py3-none-any.whl (155 kB)\n",
      "Collecting rsa<5,>=3.1.4\n",
      "  Using cached rsa-4.8-py3-none-any.whl (39 kB)\n",
      "Collecting cachetools<6.0,>=2.0.0\n",
      "  Using cached cachetools-5.0.0-py3-none-any.whl (9.1 kB)\n",
      "Collecting requests-oauthlib>=0.7.0\n",
      "  Using cached requests_oauthlib-1.3.1-py2.py3-none-any.whl (23 kB)\n",
      "Collecting importlib-metadata>=4.4\n",
      "  Using cached importlib_metadata-4.11.3-py3-none-any.whl (18 kB)\n",
      "Collecting urllib3<1.27,>=1.21.1\n",
      "  Using cached urllib3-1.26.9-py2.py3-none-any.whl (138 kB)\n",
      "Collecting charset-normalizer~=2.0.0\n",
      "  Using cached charset_normalizer-2.0.12-py3-none-any.whl (39 kB)\n",
      "Collecting idna<4,>=2.5\n",
      "  Using cached idna-3.3-py3-none-any.whl (61 kB)\n",
      "Collecting certifi>=2017.4.17\n",
      "  Using cached certifi-2021.10.8-py2.py3-none-any.whl (149 kB)\n",
      "Collecting zipp>=0.5\n",
      "  Using cached zipp-3.7.0-py3-none-any.whl (5.3 kB)\n",
      "Collecting pyasn1<0.5.0,>=0.4.6\n",
      "  Using cached pyasn1-0.4.8-py2.py3-none-any.whl (77 kB)\n",
      "Collecting oauthlib>=3.0.0\n",
      "  Using cached oauthlib-3.2.0-py3-none-any.whl (151 kB)\n",
      "Installing collected packages: tf-estimator-nightly, termcolor, tensorboard-plugin-wit, pyasn1, libclang, keras, flatbuffers, certifi, zipp, wrapt, wheel, werkzeug, urllib3, typing-extensions, tensorflow-io-gcs-filesystem, tensorboard-data-server, six, setuptools, rsa, pyasn1-modules, protobuf, oauthlib, numpy, idna, gast, charset-normalizer, cachetools, requests, opt-einsum, keras-preprocessing, importlib-metadata, h5py, grpcio, google-pasta, google-auth, astunparse, absl-py, requests-oauthlib, markdown, google-auth-oauthlib, tensorboard, tensorflow\n",
      "Successfully installed absl-py-1.0.0 astunparse-1.6.3 cachetools-5.0.0 certifi-2021.10.8 charset-normalizer-2.0.12 flatbuffers-2.0 gast-0.5.3 google-auth-2.6.2 google-auth-oauthlib-0.4.6 google-pasta-0.2.0 grpcio-1.44.0 h5py-3.6.0 idna-3.3 importlib-metadata-4.11.3 keras-2.8.0 keras-preprocessing-1.1.2 libclang-13.0.0 markdown-3.3.6 numpy-1.22.3 oauthlib-3.2.0 opt-einsum-3.3.0 protobuf-3.19.4 pyasn1-0.4.8 pyasn1-modules-0.2.8 requests-2.27.1 requests-oauthlib-1.3.1 rsa-4.8 setuptools-61.1.1 six-1.16.0 tensorboard-2.8.0 tensorboard-data-server-0.6.1 tensorboard-plugin-wit-1.8.1 tensorflow-2.8.0 tensorflow-io-gcs-filesystem-0.24.0 termcolor-1.1.0 tf-estimator-nightly-2.8.0.dev2021122109 typing-extensions-4.1.1 urllib3-1.26.9 werkzeug-2.0.3 wheel-0.37.1 wrapt-1.14.0 zipp-3.7.0\n"
     ]
    },
    {
     "name": "stderr",
     "output_type": "stream",
     "text": [
      "ERROR: pip's dependency resolver does not currently take into account all the packages that are installed. This behaviour is the source of the following dependency conflicts.\n",
      "spyder 5.1.5 requires pyqt5<5.13, which is not installed.\n",
      "spyder 5.1.5 requires pyqtwebengine<5.13, which is not installed.\n",
      "daal4py 2021.3.0 requires daal==2021.2.3, which is not installed.\n",
      "conda-repo-cli 1.0.4 requires pathlib, which is not installed.\n",
      "anaconda-project 0.10.1 requires ruamel-yaml, which is not installed.\n",
      "tf-nightly 2.9.0.dev20220326 requires flatbuffers<2,>=1.12, but you have flatbuffers 2.0 which is incompatible.\n",
      "tf-nightly 2.9.0.dev20220326 requires gast<=0.4.0,>=0.2.1, but you have gast 0.5.3 which is incompatible.\n",
      "tf-nightly 2.9.0.dev20220326 requires tf-estimator-nightly~=2.9.0.dev, but you have tf-estimator-nightly 2.8.0.dev2021122109 which is incompatible.\n",
      "numba 0.54.1 requires numpy<1.21,>=1.17, but you have numpy 1.22.3 which is incompatible.\n",
      "astroid 2.6.6 requires wrapt<1.13,>=1.11, but you have wrapt 1.14.0 which is incompatible.\n"
     ]
    }
   ],
   "source": [
    "!pip install tensorflow==2.8.0 --ignore-installed"
   ]
  },
  {
   "cell_type": "code",
   "execution_count": null,
   "metadata": {},
   "outputs": [],
   "source": [
    "def block(filters, kernel_size=3, stride=1, conv_shortcut=False, name=None):\n",
    "    def apply(x):\n",
    "        preact = layers.BatchNormalization(axis=3, epsilon=1.001e-5,)(x)\n",
    "        preact = layers.Activation('relu')(preact)\n",
    "\n",
    "        if conv_shortcut:\n",
    "            shortcut = layers.Conv2D(4 * filters, 1, strides=stride)(preact)\n",
    "        else:\n",
    "            shortcut = layers.MaxPooling2D(1, strides=stride)(x) if stride > 1 else x\n",
    "\n",
    "        x = layers.Conv2D(\n",
    "            filters, 1, strides=1, use_bias=False)(preact)\n",
    "        x = layers.BatchNormalization(\n",
    "            axis=3, epsilon=1.001e-5)(x)\n",
    "        x = layers.Activation('relu')(x)\n",
    "\n",
    "        x = layers.ZeroPadding2D(padding=((1, 1), (1, 1)))(x)\n",
    "        x = layers.Conv2D(filters, kernel_size, strides=stride, use_bias=False)(x)\n",
    "        x = layers.BatchNormalization(axis=3, epsilon=1.001e-5)(x)\n",
    "        x = layers.Activation('relu')(x)\n",
    "\n",
    "        x = layers.Conv2D(4 * filters, 1)(x)\n",
    "        x = layers.Add()([shortcut, x])\n",
    "        return x\n",
    "    return apply\n",
    "\n",
    "def stack(filters, blocks, stride1=2, name=None):\n",
    "    def apply(x):\n",
    "        x = block(filters, conv_shortcut=True)(x)\n",
    "        for i in range(2, blocks):\n",
    "            x = block(filters)(x)\n",
    "        x = block(filters, stride=stride1)(x)\n",
    "        return x\n",
    "    return apply\n",
    "train_ds = tf.keras.preprocessing.image_dataset_from_directory(\"C:\\Pycharm\\imagenette\\imagenette2-160\\pain\", label_mode=\"categorical\", image_size=(224,224))\n",
    "val_ds = tf.keras.preprocessing.image_dataset_from_directory(\"C:\\Pycharm\\imagenette\\imagenette2-160\\eval\", label_mode=\"categorical\", image_size=(224,224))\n",
    "\n",
    "train_ds = train_ds.prefetch(tf.data.AUTOTUNE)\n",
    "val_ds = val_ds.prefetch(tf.data.AUTOTUNE)\n",
    "\n",
    "inputs = layers.Input((224,224,3))\n",
    "x = layers.ZeroPadding2D(padding=((3, 3), (3, 3)))(inputs)\n",
    "x = layers.Conv2D(64, 7, strides=2)(x)\n",
    "\n",
    "x = layers.ZeroPadding2D(padding=((1, 1), (1, 1)))(x)\n",
    "x = layers.MaxPooling2D(3, strides=2)(x)\n",
    "\n",
    "x = stack(64, 3)(x)\n",
    "x = stack(128, 4)(x)\n",
    "x = stack(256, 6)(x)\n",
    "x = stack(512, 3, stride1=1)(x)\n",
    "\n",
    "x = layers.GlobalAveragePooling2D()(x)\n",
    "x = layers.Dense(10, activation=\"softmax\")(x)\n",
    "\n",
    "model = tf.keras.Model(inputs, x, name=\"ResNet50V2\")\n",
    "\n",
    "model.compile(tf.keras.optimizers.Adam(learning_rate=0.0005), \"categorical_crossentropy\", metrics=[\"accuracy\"])\n",
    "\n",
    "save_best_callback = tf.keras.callbacks.ModelCheckpoint(\"best_{epoch}.h5\", monitor=\"val_accuracy\")\n",
    "\n",
    "history = model.fit(train_ds,\n",
    "        epochs=25,\n",
    "        validation_data=val_ds,\n",
    "        callbacks=[save_best_callback])\n",
    "\n",
    "plt.plot(history.history['accuracy'])\n",
    "plt.plot(history.history['val_accuracy'])\n",
    "plt.title('model accuracy')\n",
    "plt.ylabel('accuracy')\n",
    "plt.xlabel('epoch')\n",
    "plt.legend(['train', 'val'], loc='upper left')\n",
    "plt.savefig(\"accuracy.jpeg\")\n",
    "plt.clf()\n",
    "\n",
    "plt.plot(history.history['loss'])\n",
    "plt.plot(history.history['val_loss'])\n",
    "plt.title('model loss')\n",
    "plt.ylabel('loss')\n",
    "plt.xlabel('epoch')\n",
    "plt.legend(['train', 'val'], loc='upper left')\n",
    "plt.savefig(\"loss.jpeg\")\n",
    "plt.clf()"
   ]
  },
  {
   "cell_type": "code",
   "execution_count": null,
   "metadata": {},
   "outputs": [],
   "source": [
    "def block(filters, kernel_size=3, stride=1, conv_shortcut=False, name=None):\n",
    "    def apply(x):\n",
    "        preact = layers.BatchNormalization(axis=3, epsilon=1.001e-5,)(x)\n",
    "        preact = layers.Activation('relu')(preact)\n",
    "\n",
    "        if conv_shortcut:\n",
    "            shortcut = layers.Conv2D(4 * filters, 1, strides=stride)(preact)\n",
    "        else:\n",
    "            shortcut = layers.MaxPooling2D(1, strides=stride)(x) if stride > 1 else x\n",
    "\n",
    "        x = layers.Conv2D(\n",
    "            filters, 1, strides=1, use_bias=False)(preact)\n",
    "        x = layers.BatchNormalization(\n",
    "            axis=3, epsilon=1.001e-5)(x)\n",
    "        x = layers.Activation('relu')(x)\n",
    "\n",
    "        x = layers.ZeroPadding2D(padding=((1, 1), (1, 1)))(x)\n",
    "        x = layers.Conv2D(filters, kernel_size, strides=stride, use_bias=False)(x)\n",
    "        x = layers.BatchNormalization(axis=3, epsilon=1.001e-5)(x)\n",
    "        x = layers.Activation('relu')(x)\n",
    "\n",
    "        x = layers.Conv2D(4 * filters, 1)(x)\n",
    "        x = layers.Add()([shortcut, x])\n",
    "        return x\n",
    "    return apply\n",
    "\n",
    "def stack(filters, blocks, stride1=2, name=None):\n",
    "    def apply(x):\n",
    "        x = block(filters, conv_shortcut=True)(x)\n",
    "        for i in range(2, blocks):\n",
    "            x = block(filters)(x)\n",
    "        x = block(filters, stride=stride1)(x)\n",
    "        return x\n",
    "    return apply"
   ]
  },
  {
   "cell_type": "code",
   "execution_count": 21,
   "metadata": {
    "scrolled": true
   },
   "outputs": [
    {
     "name": "stdout",
     "output_type": "stream",
     "text": [
      "Found 9469 files belonging to 10 classes.\n",
      "Found 3925 files belonging to 10 classes.\n"
     ]
    }
   ],
   "source": [
    "train_ds = tf.keras.preprocessing.image_dataset_from_directory(r\"C:\\Users\\Дарья\\imagenette2-160\\pain\", label_mode=\"categorical\", image_size=(224,224))\n",
    "val_ds = tf.keras.preprocessing.image_dataset_from_directory(r\"C:\\Users\\Дарья\\imagenette2-160\\eval\", label_mode=\"categorical\", image_size=(224,224))\n",
    "\n",
    "train_ds = train_ds.prefetch(tf.data.AUTOTUNE)\n",
    "val_ds = val_ds.prefetch(tf.data.AUTOTUNE)"
   ]
  },
  {
   "cell_type": "code",
   "execution_count": 22,
   "metadata": {},
   "outputs": [],
   "source": [
    "inputs = layers.Input((224,224,3))\n",
    "x = layers.ZeroPadding2D(padding=((3, 3), (3, 3)))(inputs)\n",
    "x = layers.Conv2D(64, 7, strides=2)(x)\n",
    "\n",
    "x = layers.ZeroPadding2D(padding=((1, 1), (1, 1)))(x)\n",
    "x = layers.MaxPooling2D(3, strides=2)(x)\n",
    "\n",
    "x = stack(64, 3)(x)\n",
    "x = stack(128, 4)(x)\n",
    "x = stack(256, 6)(x)\n",
    "x = stack(512, 3, stride1=1)(x)\n",
    "\n",
    "x = layers.GlobalAveragePooling2D()(x)\n",
    "x = layers.Dense(10, activation=\"softmax\")(x)\n",
    "\n",
    "model = tf.keras.Model(inputs, x, name=\"ResNet50V2\")"
   ]
  },
  {
   "cell_type": "code",
   "execution_count": 23,
   "metadata": {
    "scrolled": true
   },
   "outputs": [
    {
     "name": "stdout",
     "output_type": "stream",
     "text": [
      "Epoch 1/25\n",
      "296/296 [==============================] - 3495s 12s/step - loss: 2.4039 - accuracy: 0.2958 - val_loss: 3.7654 - val_accuracy: 0.1699\n",
      "Epoch 2/25\n",
      "296/296 [==============================] - 3489s 12s/step - loss: 1.6156 - accuracy: 0.4641 - val_loss: 2.9666 - val_accuracy: 0.2938\n",
      "Epoch 3/25\n",
      "296/296 [==============================] - 3467s 12s/step - loss: 1.3421 - accuracy: 0.5644 - val_loss: 2.8682 - val_accuracy: 0.3361\n",
      "Epoch 4/25\n",
      "296/296 [==============================] - 3454s 12s/step - loss: 1.1297 - accuracy: 0.6324 - val_loss: 2.4789 - val_accuracy: 0.3924\n",
      "Epoch 5/25\n",
      "296/296 [==============================] - 3451s 12s/step - loss: 1.0209 - accuracy: 0.6652 - val_loss: 4.1700 - val_accuracy: 0.4084\n",
      "Epoch 6/25\n",
      "296/296 [==============================] - 3430s 12s/step - loss: 0.9686 - accuracy: 0.6830 - val_loss: 22.6246 - val_accuracy: 0.4606\n",
      "Epoch 7/25\n",
      "296/296 [==============================] - 13732s 47s/step - loss: 0.8792 - accuracy: 0.7189 - val_loss: 3.7983 - val_accuracy: 0.2194\n",
      "Epoch 8/25\n",
      "296/296 [==============================] - 3436s 12s/step - loss: 0.8594 - accuracy: 0.7211 - val_loss: 1.4833 - val_accuracy: 0.5743\n",
      "Epoch 9/25\n",
      "296/296 [==============================] - 3403s 11s/step - loss: 0.7244 - accuracy: 0.7584 - val_loss: 1.6963 - val_accuracy: 0.5842\n",
      "Epoch 10/25\n",
      "296/296 [==============================] - 3400s 11s/step - loss: 0.6564 - accuracy: 0.7865 - val_loss: 1.4793 - val_accuracy: 0.5648\n",
      "Epoch 11/25\n",
      "296/296 [==============================] - 3419s 12s/step - loss: 0.6113 - accuracy: 0.8057 - val_loss: 2.4710 - val_accuracy: 0.4848\n",
      "Epoch 12/25\n",
      "296/296 [==============================] - 3417s 12s/step - loss: 0.5415 - accuracy: 0.8240 - val_loss: 1025.0664 - val_accuracy: 0.0986\n",
      "Epoch 13/25\n",
      "296/296 [==============================] - 3438s 12s/step - loss: 0.6435 - accuracy: 0.7915 - val_loss: 2.1945 - val_accuracy: 0.5279\n",
      "Epoch 14/25\n",
      "296/296 [==============================] - 3439s 12s/step - loss: 0.4469 - accuracy: 0.8531 - val_loss: 1.8232 - val_accuracy: 0.5969\n",
      "Epoch 15/25\n",
      "296/296 [==============================] - 3469s 12s/step - loss: 0.3794 - accuracy: 0.8769 - val_loss: 1.8299 - val_accuracy: 0.5931\n",
      "Epoch 16/25\n",
      "296/296 [==============================] - 3497s 12s/step - loss: 0.3436 - accuracy: 0.8851 - val_loss: 1.7591 - val_accuracy: 0.6311\n",
      "Epoch 17/25\n",
      "296/296 [==============================] - 3605s 12s/step - loss: 0.4049 - accuracy: 0.8732 - val_loss: 1.8739 - val_accuracy: 0.5648\n",
      "Epoch 18/25\n",
      "296/296 [==============================] - 3560s 12s/step - loss: 0.2750 - accuracy: 0.9065 - val_loss: 1.2350 - val_accuracy: 0.6991\n",
      "Epoch 19/25\n",
      "296/296 [==============================] - 3524s 12s/step - loss: 0.2456 - accuracy: 0.9182 - val_loss: 1.9641 - val_accuracy: 0.6265\n",
      "Epoch 20/25\n",
      "296/296 [==============================] - 3689s 12s/step - loss: 0.2051 - accuracy: 0.9319 - val_loss: 1.8785 - val_accuracy: 0.6158\n",
      "Epoch 21/25\n",
      "296/296 [==============================] - 4079s 14s/step - loss: 0.1994 - accuracy: 0.9346 - val_loss: 2.9263 - val_accuracy: 0.5310\n",
      "Epoch 22/25\n",
      "296/296 [==============================] - 3655s 12s/step - loss: 0.1759 - accuracy: 0.9419 - val_loss: 2.0366 - val_accuracy: 0.5613\n",
      "Epoch 23/25\n",
      "296/296 [==============================] - 3529s 12s/step - loss: 0.1517 - accuracy: 0.9503 - val_loss: 1.2787 - val_accuracy: 0.7134\n",
      "Epoch 24/25\n",
      "296/296 [==============================] - 3511s 12s/step - loss: 0.1576 - accuracy: 0.9462 - val_loss: 2.4198 - val_accuracy: 0.6048\n",
      "Epoch 25/25\n",
      "296/296 [==============================] - 3486s 12s/step - loss: 0.1394 - accuracy: 0.9547 - val_loss: 2.7113 - val_accuracy: 0.5661\n"
     ]
    }
   ],
   "source": [
    "model.compile(tf.keras.optimizers.Adam(learning_rate=0.0005), \"categorical_crossentropy\", metrics=[\"accuracy\"])\n",
    "\n",
    "save_best_callback = tf.keras.callbacks.ModelCheckpoint(\"best_{epoch}.h5\", monitor=\"val_accuracy\")\n",
    "\n",
    "history = model.fit(train_ds, \n",
    "        epochs=25,\n",
    "        validation_data=val_ds,\n",
    "        callbacks=[save_best_callback])"
   ]
  },
  {
   "cell_type": "code",
   "execution_count": 25,
   "metadata": {},
   "outputs": [
    {
     "data": {
      "image/png": "[encoded data removed]",
      "text/plain": [
       "<Figure size 432x288 with 1 Axes>"
      ]
     },
     "metadata": {
      "needs_background": "light"
     },
     "output_type": "display_data"
    }
   ],
   "source": [
    "plt.plot(history.history['accuracy'])\n",
    "plt.plot(history.history['val_accuracy'])\n",
    "plt.title('model accuracy')\n",
    "plt.ylabel('accuracy')\n",
    "plt.xlabel('epoch')\n",
    "plt.legend(['train', 'val'], loc='upper left')\n",
    "plt.savefig(\"accuracy.jpeg\")\n",
    "plt.show()"
   ]
  },
  {
   "cell_type": "code",
   "execution_count": 27,
   "metadata": {},
   "outputs": [
    {
     "data": {
      "image/png": "[encoded data removed]",
      "text/plain": [
       "<Figure size 432x288 with 1 Axes>"
      ]
     },
     "metadata": {
      "needs_background": "light"
     },
     "output_type": "display_data"
    }
   ],
   "source": [
    "plt.plot(history.history['loss'])\n",
    "plt.plot(history.history['val_loss'])\n",
    "plt.title('model loss')\n",
    "plt.ylabel('loss')\n",
    "plt.xlabel('epoch')\n",
    "plt.legend(['train', 'val'], loc='upper left')\n",
    "plt.savefig(\"loss.jpeg\")\n",
    "plt.show()"
   ]
  },
  {
   "cell_type": "code",
   "execution_count": null,
   "metadata": {},
   "outputs": [],
   "source": []
  }
 ],
 "metadata": {
  "kernelspec": {
   "display_name": "Python 3 (ipykernel)",
   "language": "python",
   "name": "python3"
  },
  "language_info": {
   "codemirror_mode": {
    "name": "ipython",
    "version": 3
   },
   "file_extension": ".py",
   "mimetype": "text/x-python",
   "name": "python",
   "nbconvert_exporter": "python",
   "pygments_lexer": "ipython3",
   "version": "3.9.7"
  }
 },
 "nbformat": 4,
 "nbformat_minor": 4
}
